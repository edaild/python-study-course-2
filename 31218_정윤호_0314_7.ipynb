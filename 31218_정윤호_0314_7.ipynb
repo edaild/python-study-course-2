{
 "cells": [
  {
   "cell_type": "markdown",
   "id": "73691adb",
   "metadata": {},
   "source": [
    "31218_정윤호_0314_7"
   ]
  },
  {
   "cell_type": "markdown",
   "id": "e794046d",
   "metadata": {},
   "source": [
    "2. 1년마다 키가 10cm씩 자라는 농구선수가 있다.<br>\n",
    "\n",
    ".2017 - 175.5cm<br>\n",
    ".2018 - 185.5cm<br>\n",
    ".2019 - 195.5cm<br>\n",
    ".2020 - 205.5cm<br>\n",
    "\n",
    "년도별 농구선수의 키를 출력해보자\n"
   ]
  },
  {
   "cell_type": "code",
   "execution_count": 2,
   "id": "eb1c6f52",
   "metadata": {},
   "outputs": [
    {
     "name": "stdout",
     "output_type": "stream",
     "text": [
      "2017 년- 175.5 cm\n",
      "2018 년- 185.5 cm\n",
      "2019 년- 195.5 cm\n",
      "2020 년- 205.5 cm\n"
     ]
    }
   ],
   "source": [
    "year = 2017\n",
    "height = 175.5\n",
    "print(year, '년-', height,'cm')\n",
    "\n",
    "year = year +1\n",
    "height = height + 10\n",
    "print(year, '년-', height,'cm')\n",
    "\n",
    "year = year +1\n",
    "height = height + 10\n",
    "print(year, '년-', height,'cm')\n",
    "\n",
    "year = year +1\n",
    "height = height + 10\n",
    "print(year, '년-', height,'cm')"
   ]
  },
  {
   "cell_type": "code",
   "execution_count": 3,
   "id": "eb8c96cd",
   "metadata": {},
   "outputs": [
    {
     "name": "stdout",
     "output_type": "stream",
     "text": [
      "2017 년- 175.5 cm\n",
      "2018 년- 185.5 cm\n",
      "2019 년- 195.5 cm\n",
      "2020 년- 205.5 cm\n"
     ]
    }
   ],
   "source": [
    "year = 2017\n",
    "height = 175.5\n",
    "print(year, '년-', height,'cm')\n",
    "\n",
    "year += 1\n",
    "height += 10\n",
    "print(year, '년-', height,'cm')\n",
    "\n",
    "year +=1\n",
    "height += 10\n",
    "print(year, '년-', height,'cm')\n",
    "\n",
    "year += 1\n",
    "height += 10\n",
    "print(year, '년-', height,'cm')"
   ]
  },
  {
   "cell_type": "markdown",
   "id": "a9d64249",
   "metadata": {},
   "source": [
    "> 동일한 변수를 증가/감소시킬 때\n",
    "\n",
    "```\n",
    "# a에 3을 더하시오\n",
    "a = a+3\n",
    "```\n",
    "\n",
    "```\n",
    "#간략하게 표현\n",
    "a+ = 3\n"
   ]
  },
  {
   "cell_type": "markdown",
   "id": "8cb3a723",
   "metadata": {},
   "source": [
    "# 2. 데이터타입type()\n",
    "\n",
    ">정수 int\n",
    "\n",
    ">실수 float\n",
    "\n",
    ">문자 str"
   ]
  },
  {
   "cell_type": "code",
   "execution_count": 4,
   "id": "ddc622bb",
   "metadata": {},
   "outputs": [],
   "source": [
    "apple = 1200\n",
    "banana = 800\n",
    "price = apple*3 + banana*2\n",
    "vip_price = price * 0.8\n",
    "a = '과일'"
   ]
  },
  {
   "cell_type": "code",
   "execution_count": 5,
   "id": "2a04485d",
   "metadata": {},
   "outputs": [
    {
     "data": {
      "text/plain": [
       "int"
      ]
     },
     "execution_count": 5,
     "metadata": {},
     "output_type": "execute_result"
    }
   ],
   "source": [
    "type(apple)"
   ]
  },
  {
   "cell_type": "code",
   "execution_count": 6,
   "id": "4bcc8107",
   "metadata": {},
   "outputs": [
    {
     "data": {
      "text/plain": [
       "int"
      ]
     },
     "execution_count": 6,
     "metadata": {},
     "output_type": "execute_result"
    }
   ],
   "source": [
    "type(banana)"
   ]
  },
  {
   "cell_type": "code",
   "execution_count": 7,
   "id": "91809f2c",
   "metadata": {},
   "outputs": [
    {
     "data": {
      "text/plain": [
       "int"
      ]
     },
     "execution_count": 7,
     "metadata": {},
     "output_type": "execute_result"
    }
   ],
   "source": [
    "type(price)"
   ]
  },
  {
   "cell_type": "code",
   "execution_count": 8,
   "id": "8870238c",
   "metadata": {},
   "outputs": [
    {
     "data": {
      "text/plain": [
       "float"
      ]
     },
     "execution_count": 8,
     "metadata": {},
     "output_type": "execute_result"
    }
   ],
   "source": [
    "type(vip_price)"
   ]
  },
  {
   "cell_type": "code",
   "execution_count": 9,
   "id": "e7681bde",
   "metadata": {},
   "outputs": [
    {
     "data": {
      "text/plain": [
       "str"
      ]
     },
     "execution_count": 9,
     "metadata": {},
     "output_type": "execute_result"
    }
   ],
   "source": [
    "type(a)"
   ]
  },
  {
   "cell_type": "markdown",
   "id": "cf20e0f7",
   "metadata": {},
   "source": [
    "# 3. 데이터타입 변경하기\n",
    "변경하려는 데이터 타입으로 감싸주기\n",
    "\n",
    "> 정수로 변경하기\n",
    "<br/> int(변수)\n",
    "\n",
    ">실수로 변경하기\n",
    "<br/> float(변수)\n",
    "\n",
    "> 문자로 변경하기\n",
    "<br/> str(변수)"
   ]
  },
  {
   "cell_type": "code",
   "execution_count": 14,
   "id": "8cfdaf25",
   "metadata": {},
   "outputs": [
    {
     "name": "stdout",
     "output_type": "stream",
     "text": [
      "1200\n",
      "1200.0\n"
     ]
    }
   ],
   "source": [
    "# 정수를 실수로 변경\n",
    "print(apple)\n",
    "apple = float(apple)\n",
    "print(apple)"
   ]
  },
  {
   "cell_type": "code",
   "execution_count": 15,
   "id": "cf88b938",
   "metadata": {
    "scrolled": true
   },
   "outputs": [
    {
     "name": "stdout",
     "output_type": "stream",
     "text": [
      "1200.0\n",
      "1200\n"
     ]
    }
   ],
   "source": [
    "# 정수를 실수로 변경\n",
    "print(apple)\n",
    "apple = int(apple)\n",
    "print(apple)"
   ]
  },
  {
   "cell_type": "markdown",
   "id": "a32645bc",
   "metadata": {},
   "source": [
    "4.원의 둘레, 넓이, 구의 겉넓이, 구하기"
   ]
  },
  {
   "cell_type": "code",
   "execution_count": 20,
   "id": "836fcf38",
   "metadata": {},
   "outputs": [
    {
     "name": "stdout",
     "output_type": "stream",
     "text": [
      "반지름은 ? 15\n",
      "원의 둘레는 94.24776\n",
      "원의 넓이는 706.8582\n",
      "구의 겉넓이는 2827.4328\n",
      "구의 부피는  14137.163999999999\n"
     ]
    }
   ],
   "source": [
    "r = int(input('반지름은 ? '))\n",
    "p = 3.141592\n",
    "\n",
    "#원의 둘레\n",
    "c_len =2*p*r\n",
    "\n",
    "#원의 넓이\n",
    "c_area = p*r**2\n",
    "\n",
    "#구의 겉넓이\n",
    "s_area = 4*p*r**2\n",
    "\n",
    "#구의 부피 \n",
    "s_volume = 4/3*p*r**3\n",
    "\n",
    "print('원의 둘레는', c_len)\n",
    "print('원의 넓이는' , c_area)\n",
    "print('구의 겉넓이는', s_area)\n",
    "print('구의 부피는 ',s_volume)"
   ]
  },
  {
   "cell_type": "code",
   "execution_count": null,
   "id": "26d517e5",
   "metadata": {},
   "outputs": [],
   "source": []
  }
 ],
 "metadata": {
  "kernelspec": {
   "display_name": "Python 3 (ipykernel)",
   "language": "python",
   "name": "python3"
  },
  "language_info": {
   "codemirror_mode": {
    "name": "ipython",
    "version": 3
   },
   "file_extension": ".py",
   "mimetype": "text/x-python",
   "name": "python",
   "nbconvert_exporter": "python",
   "pygments_lexer": "ipython3",
   "version": "3.9.7"
  }
 },
 "nbformat": 4,
 "nbformat_minor": 5
}
